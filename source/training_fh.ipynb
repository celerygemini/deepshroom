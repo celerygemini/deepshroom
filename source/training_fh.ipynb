{
 "cells": [
  {
   "cell_type": "code",
   "execution_count": null,
   "metadata": {},
   "outputs": [],
   "source": [
    "import os\n",
    "import pickle\n",
    "import datetime\n",
    "import numpy as np\n",
    "import pandas as pd\n",
    "import matplotlib.pyplot as plt\n",
    "import tensorflow as tf\n",
    "import seaborn as sns\n",
    "import sklearn.metrics as metrics\n",
    "from tensorflow import keras\n",
    "from tensorflow.keras import layers\n",
    "from keras.callbacks import ModelCheckpoint\n",
    "from keras import models"
   ]
  },
  {
   "cell_type": "code",
   "execution_count": null,
   "metadata": {},
   "outputs": [],
   "source": [
    "%load_ext tensorboard"
   ]
  },
  {
   "cell_type": "code",
   "execution_count": null,
   "metadata": {},
   "outputs": [],
   "source": [
    "rm -rf ./logs/"
   ]
  },
  {
   "cell_type": "code",
   "execution_count": null,
   "metadata": {},
   "outputs": [],
   "source": [
    "!pip install imgaug==0.4.0\n",
    "!pip install imgo"
   ]
  },
  {
   "cell_type": "code",
   "execution_count": null,
   "metadata": {},
   "outputs": [],
   "source": [
    "from imgo import uptools"
   ]
  },
  {
   "cell_type": "code",
   "execution_count": null,
   "metadata": {},
   "outputs": [],
   "source": [
    "class_names = ['amethyst_deceiver',\n",
    "               'bolete',\n",
    "               'chanterelle',\n",
    "               'chicken_of_the_woods',\n",
    "               'death_cap',\n",
    "               'false_chanterelle',\n",
    "               'false_morel',\n",
    "               'fibrecap',\n",
    "               'field_mushroom',\n",
    "               'fly_agaric',\n",
    "               'giant_puffball',\n",
    "               'grey_oyster',\n",
    "               'morel',\n",
    "               'orange_peel',\n",
    "               'roundhead',\n",
    "               'saddle',\n",
    "               'shaggy_inkcap',\n",
    "               'stinkhorn',\n",
    "               'waxcap',\n",
    "               'yellow_stainer']\n"
   ]
  },
  {
   "cell_type": "code",
   "execution_count": null,
   "metadata": {},
   "outputs": [],
   "source": [
    "%%time\n",
    "ds = uptools.Image_Dataset(\"/floyd/input/ds_1\", \"h5\", 256, normalize=True, manual_classes=class_names)"
   ]
  },
  {
   "cell_type": "code",
   "execution_count": null,
   "metadata": {},
   "outputs": [],
   "source": [
    "ds.details(plot=True)"
   ]
  },
  {
   "cell_type": "code",
   "execution_count": null,
   "metadata": {},
   "outputs": [],
   "source": [
    "def cnn():\n",
    "\n",
    "    inputs = keras.Input(shape=(256,256,3))\n",
    "    x = layers.Conv2D(32,(3,3),activation='relu',padding='same')(inputs)\n",
    "    x = layers.MaxPooling2D((2,2))(x)\n",
    "    x = layers.Conv2D(64,(3,3),activation='relu',padding='same')(x)\n",
    "    x = layers.MaxPooling2D((2,2))(x)\n",
    "    x = layers.Conv2D(128,(3,3),activation='relu',padding='same')(x)\n",
    "    x = layers.MaxPooling2D((2,2))(x)\n",
    "    x = layers.Conv2D(256,(3,3),activation='relu',padding='same')(x)\n",
    "    x = layers.MaxPooling2D((2,2))(x)\n",
    "    x = layers.Conv2D(512,(3,3),activation='relu',padding='same')(x)\n",
    "    x = layers.MaxPooling2D((2,2))(x)\n",
    "    x = layers.Flatten()(x)\n",
    "    x = layers.Dense(1024, activation='relu')(x)\n",
    "    outputs = layers.Dense(20, activation='softmax')(x)\n",
    "    \n",
    "    model = keras.Model(inputs=inputs, outputs=outputs)\n",
    "    model.compile(loss='categorical_crossentropy',optimizer='adam',metrics=['accuracy'])\n",
    "    model.summary()\n",
    "    \n",
    "    return model"
   ]
  },
  {
   "cell_type": "code",
   "execution_count": null,
   "metadata": {},
   "outputs": [],
   "source": [
    "n_epochs = 15\n",
    "s_batch = 32"
   ]
  },
  {
   "cell_type": "code",
   "execution_count": null,
   "metadata": {},
   "outputs": [],
   "source": [
    "%%time\n",
    "ds_net_01 = cnn()\n",
    "model_path = \"ds_net_01.h5\"\n",
    "\n",
    "\n",
    "cp = [ModelCheckpoint(filepath=model_path,\n",
    "                      monitor=\"val_accuracy\",\n",
    "                      verbose=1,\n",
    "                      save_best_only=True)]\n",
    "\n",
    "log_dir = \"logs/fit/\" + datetime.datetime.now().strftime(\"%Y%m%d-%H%M%S\")\n",
    "tc = [tf.keras.callbacks.TensorBoard(log_dir=log_dir, histogram_freq=1)]\n",
    "\n",
    "history = ds_net_01.fit(ds.X_train,\n",
    "                        ds.y_train,\n",
    "                        validation_data=(ds.X_val,ds.y_val),\n",
    "                        epochs=n_epochs,\n",
    "                        batch_size=s_batch,\n",
    "                        callbacks=[cp,tc])\n",
    "\n",
    "with open(f\"ds_net_01_history\", \"wb\") as file_pi:\n",
    "    pickle.dump(history.history, file_pi)"
   ]
  },
  {
   "cell_type": "code",
   "execution_count": null,
   "metadata": {},
   "outputs": [],
   "source": [
    "model = models.load_model(model_path)\n",
    "(val_loss, val_acc) = model.evaluate(ds.X_val,ds.y_val,verbose=1)\n",
    "(test_loss, test_acc) = model.evaluate(ds.X_test,ds.y_test,verbose=1)\n",
    "print('---')\n",
    "print(f'Val Loss: {val_loss}')\n",
    "print(f'Val Accuracy: {val_acc}')\n",
    "print('---')\n",
    "print(f'Val Loss: {test_loss}')\n",
    "print(f'Val Accuracy: {test_acc}')"
   ]
  },
  {
   "cell_type": "code",
   "execution_count": null,
   "metadata": {},
   "outputs": [],
   "source": [
    "test_preds = np.argmax(model.predict(ds.X_test,verbose=1),axis=-1)\n",
    "test_results_df = pd.DataFrame(test_preds,columns=['predicted'])\n",
    "test_results_df['actual'] = pd.DataFrame(ds.y_test).idxmax(axis=1)\n",
    "cm = metrics.confusion_matrix(test_results_df['actual'],test_results_df['predicted'])\n",
    "cmn = np.true_divide(cm, cm.sum(axis=1, keepdims=True))*100\n",
    "df_cmn = pd.DataFrame(cmn, class_names, class_names)"
   ]
  },
  {
   "cell_type": "code",
   "execution_count": null,
   "metadata": {},
   "outputs": [],
   "source": [
    "fig, ax1 = plt.subplots(1,1,figsize=(10,10))\n",
    "sns.heatmap(df_cmn, cmap='Blues', cbar=False, annot=True,annot_kws={\"size\":11}, fmt='.0f', linewidth=0.5)\n",
    "for t in ax1.texts:\n",
    "    t.set_text(t.get_text()+'%')\n",
    "plt.xlabel('Predicted')\n",
    "plt.ylabel('Actual')\n",
    "plt.title(f'Confusion Matrix', fontdict={'fontsize':15})\n",
    "plt.tight_layout()\n",
    "plt.savefig(\"cm.png\")\n",
    "plt.show()"
   ]
  }
 ],
 "metadata": {
  "kernelspec": {
   "display_name": "Python 3",
   "language": "python",
   "name": "python3"
  },
  "language_info": {
   "codemirror_mode": {
    "name": "ipython",
    "version": 3
   },
   "file_extension": ".py",
   "mimetype": "text/x-python",
   "name": "python",
   "nbconvert_exporter": "python",
   "pygments_lexer": "ipython3",
   "version": "3.7.6"
  }
 },
 "nbformat": 4,
 "nbformat_minor": 4
}
