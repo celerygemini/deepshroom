{
 "cells": [
  {
   "cell_type": "code",
   "execution_count": null,
   "metadata": {},
   "outputs": [],
   "source": [
    "import os\n",
    "import pickle\n",
    "import datetime\n",
    "import numpy as np\n",
    "import pandas as pd\n",
    "import matplotlib.pyplot as plt\n",
    "import tensorflow as tf\n",
    "import seaborn as sns\n",
    "import sklearn.metrics as metrics\n",
    "from tensorflow import keras\n",
    "from tensorflow.keras import layers\n",
    "from keras.callbacks import ModelCheckpoint\n",
    "from keras import models"
   ]
  },
  {
   "cell_type": "code",
   "execution_count": null,
   "metadata": {},
   "outputs": [],
   "source": [
    "rm -rf ./untitled_project/"
   ]
  },
  {
   "cell_type": "code",
   "execution_count": null,
   "metadata": {},
   "outputs": [],
   "source": [
    "!pip install imgaug==0.4.0\n",
    "!pip install imgo\n",
    "!pip install keras-tuner"
   ]
  },
  {
   "cell_type": "code",
   "execution_count": null,
   "metadata": {},
   "outputs": [],
   "source": [
    "from imgo import uptools\n",
    "from keras_tuner import HyperModel\n",
    "from keras_tuner.tuners import BayesianOptimization"
   ]
  },
  {
   "cell_type": "code",
   "execution_count": null,
   "metadata": {},
   "outputs": [],
   "source": [
    "class_names = ['amethyst_deceiver',\n",
    "               'bolete',\n",
    "               'chanterelle',\n",
    "               'chicken_of_the_woods',\n",
    "               'death_cap',\n",
    "               'false_chanterelle',\n",
    "               'false_morel',\n",
    "               'fibrecap',\n",
    "               'field_mushroom',\n",
    "               'fly_agaric',\n",
    "               'giant_puffball',\n",
    "               'grey_oyster',\n",
    "               'morel',\n",
    "               'orange_peel',\n",
    "               'roundhead',\n",
    "               'saddle',\n",
    "               'shaggy_inkcap',\n",
    "               'stinkhorn',\n",
    "               'waxcap',\n",
    "               'yellow_stainer']\n"
   ]
  },
  {
   "cell_type": "code",
   "execution_count": null,
   "metadata": {},
   "outputs": [],
   "source": [
    "%%time\n",
    "ds = uptools.Image_Dataset(\"/floyd/input/ds_1\", \"h5\", 256, normalize=True, manual_classes=class_names)"
   ]
  },
  {
   "cell_type": "code",
   "execution_count": null,
   "metadata": {},
   "outputs": [],
   "source": [
    "ds.details(plot=True)"
   ]
  },
  {
   "cell_type": "code",
   "execution_count": null,
   "metadata": {},
   "outputs": [],
   "source": [
    "class CNNHyperModel(HyperModel):\n",
    "    def __init__(self,input_shape,class_no):\n",
    "        self.input_shape = input_shape\n",
    "        self.num_classes = class_no\n",
    "\n",
    "    def build(self,hp):\n",
    "\n",
    "        inputs = keras.Input(shape=self.input_shape)\n",
    "        x = layers.Conv2D(32,(3,3),activation='relu',padding='same')(inputs)\n",
    "        x = layers.MaxPooling2D((2,2))(x)\n",
    "        x = layers.Conv2D(64,(3,3),activation='relu',padding='same')(x)\n",
    "        x = layers.MaxPooling2D((2,2))(x)\n",
    "        x = layers.Conv2D(128,(3,3),activation='relu',padding='same')(x)\n",
    "        x = layers.MaxPooling2D((2,2))(x)\n",
    "        x = layers.Conv2D(256,(3,3),activation='relu',padding='same')(x)\n",
    "        x = layers.MaxPooling2D((2,2))(x)\n",
    "        x = layers.Conv2D(512,(3,3),activation='relu',padding='same')(x)\n",
    "        x = layers.MaxPooling2D((2,2))(x)\n",
    "        x = layers.Flatten()(x)\n",
    "        x = layers.Dense(1024, activation='relu')(x)\n",
    "        x = layers.Dropout(rate=hp.Float('dropout_2',min_value=0.0,max_value=0.5,default=0.25,step=0.03,))(x)\n",
    "        outputs = layers.Dense(self.num_classes, activation='softmax')(x)\n",
    "\n",
    "        model = keras.Model(inputs=inputs, outputs=outputs)\n",
    "        model.compile(loss='categorical_crossentropy',optimizer='adam',metrics=['accuracy'])\n",
    "        model.summary()\n",
    "\n",
    "        return model\n",
    "    \n",
    "hypermodel = CNNHyperModel(ds.img_shape,ds.class_no)"
   ]
  },
  {
   "cell_type": "code",
   "execution_count": null,
   "metadata": {},
   "outputs": [],
   "source": [
    "n_epochs = 8\n",
    "s_batch = 32\n",
    "m_trials = 10"
   ]
  },
  {
   "cell_type": "code",
   "execution_count": null,
   "metadata": {},
   "outputs": [],
   "source": [
    "%%time\n",
    "tuner = BayesianOptimization(hypermodel,\n",
    "                             max_trials=m_trials,\n",
    "                             objective='val_accuracy')\n",
    "\n",
    "tuner.search(ds.X_train,\n",
    "             ds.y_train,\n",
    "             epochs=n_epochs,\n",
    "             validation_data=(ds.X_val,ds.y_val),\n",
    "             batch_size=s_batch)"
   ]
  },
  {
   "cell_type": "code",
   "execution_count": null,
   "metadata": {},
   "outputs": [],
   "source": [
    "tuner.results_summary()\n",
    "loss, accuracy = best_model.evaluate(ds.X_val, ds.y_val)"
   ]
  },
  {
   "cell_type": "code",
   "execution_count": null,
   "metadata": {},
   "outputs": [],
   "source": [
    "best_model = tuner.get_best_models(num_models=1)[0]\n",
    "(val_loss, val_acc) = best_model.evaluate(ds.X_val,ds.y_val,verbose=1)\n",
    "print('---')\n",
    "print(f'Val Loss: {val_loss}')\n",
    "print(f'Val Accuracy: {val_acc}')"
   ]
  }
 ],
 "metadata": {
  "kernelspec": {
   "display_name": "Python 3",
   "language": "python",
   "name": "python3"
  },
  "language_info": {
   "codemirror_mode": {
    "name": "ipython",
    "version": 3
   },
   "file_extension": ".py",
   "mimetype": "text/x-python",
   "name": "python",
   "nbconvert_exporter": "python",
   "pygments_lexer": "ipython3",
   "version": "3.7.6"
  }
 },
 "nbformat": 4,
 "nbformat_minor": 4
}
