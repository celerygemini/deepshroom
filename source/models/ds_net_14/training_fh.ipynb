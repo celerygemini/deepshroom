{
 "cells": [
  {
   "cell_type": "code",
   "execution_count": 1,
   "metadata": {},
   "outputs": [],
   "source": [
    "import os\n",
    "import pickle\n",
    "import datetime\n",
    "import numpy as np\n",
    "import pandas as pd\n",
    "import matplotlib.pyplot as plt\n",
    "import tensorflow as tf\n",
    "import seaborn as sns\n",
    "import sklearn.metrics as metrics\n",
    "from tensorflow import keras\n",
    "from tensorflow.keras import layers\n",
    "from tensorflow.keras import activations\n",
    "from tensorflow.keras import optimizers\n",
    "from keras.callbacks import ModelCheckpoint\n",
    "from keras import models"
   ]
  },
  {
   "cell_type": "code",
   "execution_count": 2,
   "metadata": {},
   "outputs": [],
   "source": [
    "%load_ext tensorboard"
   ]
  },
  {
   "cell_type": "code",
   "execution_count": 3,
   "metadata": {},
   "outputs": [],
   "source": [
    "rm -rf ./untitled_project/"
   ]
  },
  {
   "cell_type": "code",
   "execution_count": 4,
   "metadata": {},
   "outputs": [],
   "source": [
    "rm -rf ./logs/"
   ]
  },
  {
   "cell_type": "code",
   "execution_count": 5,
   "metadata": {},
   "outputs": [
    {
     "name": "stdout",
     "output_type": "stream",
     "text": [
      "Collecting imgaug==0.4.0\n",
      "  Downloading imgaug-0.4.0-py2.py3-none-any.whl (948 kB)\n",
      "\u001b[K     |████████████████████████████████| 948 kB 44 kB/s  eta 0:00:01\n",
      "\u001b[?25hRequirement already satisfied: matplotlib in /usr/local/lib/python3.7/site-packages (from imgaug==0.4.0) (3.2.1)\n",
      "Collecting Shapely\n",
      "  Downloading Shapely-1.7.1-cp37-cp37m-manylinux1_x86_64.whl (1.0 MB)\n",
      "\u001b[K     |████████████████████████████████| 1.0 MB 13.1 MB/s eta 0:00:01\n",
      "\u001b[?25hRequirement already satisfied: scikit-image>=0.14.2 in /usr/local/lib/python3.7/site-packages (from imgaug==0.4.0) (0.17.1)\n",
      "Requirement already satisfied: opencv-python in /usr/local/lib/python3.7/site-packages (from imgaug==0.4.0) (4.2.0.34)\n",
      "Requirement already satisfied: six in /usr/local/lib/python3.7/site-packages (from imgaug==0.4.0) (1.14.0)\n",
      "Requirement already satisfied: Pillow in /usr/local/lib/python3.7/site-packages (from imgaug==0.4.0) (7.1.2)\n",
      "Requirement already satisfied: imageio in /usr/local/lib/python3.7/site-packages (from imgaug==0.4.0) (2.8.0)\n",
      "Requirement already satisfied: numpy>=1.15 in /usr/local/lib/python3.7/site-packages (from imgaug==0.4.0) (1.18.4)\n",
      "Requirement already satisfied: scipy in /usr/local/lib/python3.7/site-packages (from imgaug==0.4.0) (1.4.1)\n",
      "Requirement already satisfied: cycler>=0.10 in /usr/local/lib/python3.7/site-packages (from matplotlib->imgaug==0.4.0) (0.10.0)\n",
      "Requirement already satisfied: kiwisolver>=1.0.1 in /usr/local/lib/python3.7/site-packages (from matplotlib->imgaug==0.4.0) (1.2.0)\n",
      "Requirement already satisfied: pyparsing!=2.0.4,!=2.1.2,!=2.1.6,>=2.0.1 in /usr/local/lib/python3.7/site-packages (from matplotlib->imgaug==0.4.0) (2.4.7)\n",
      "Requirement already satisfied: python-dateutil>=2.1 in /usr/local/lib/python3.7/site-packages (from matplotlib->imgaug==0.4.0) (2.8.1)\n",
      "Requirement already satisfied: tifffile>=2019.7.26 in /usr/local/lib/python3.7/site-packages (from scikit-image>=0.14.2->imgaug==0.4.0) (2020.5.7)\n",
      "Requirement already satisfied: pooch>=0.5.2 in /usr/local/lib/python3.7/site-packages (from scikit-image>=0.14.2->imgaug==0.4.0) (1.1.0)\n",
      "Requirement already satisfied: networkx>=2.0 in /usr/local/lib/python3.7/site-packages (from scikit-image>=0.14.2->imgaug==0.4.0) (2.4)\n",
      "Requirement already satisfied: PyWavelets>=1.1.1 in /usr/local/lib/python3.7/site-packages (from scikit-image>=0.14.2->imgaug==0.4.0) (1.1.1)\n",
      "Requirement already satisfied: imagecodecs>=2020.2.18 in /usr/local/lib/python3.7/site-packages (from tifffile>=2019.7.26->scikit-image>=0.14.2->imgaug==0.4.0) (2020.2.18)\n",
      "Requirement already satisfied: requests in /usr/local/lib/python3.7/site-packages (from pooch>=0.5.2->scikit-image>=0.14.2->imgaug==0.4.0) (2.23.0)\n",
      "Requirement already satisfied: packaging in /usr/local/lib/python3.7/site-packages (from pooch>=0.5.2->scikit-image>=0.14.2->imgaug==0.4.0) (20.3)\n",
      "Requirement already satisfied: appdirs in /usr/local/lib/python3.7/site-packages (from pooch>=0.5.2->scikit-image>=0.14.2->imgaug==0.4.0) (1.4.4)\n",
      "Requirement already satisfied: decorator>=4.3.0 in /usr/local/lib/python3.7/site-packages (from networkx>=2.0->scikit-image>=0.14.2->imgaug==0.4.0) (4.4.2)\n",
      "Requirement already satisfied: urllib3!=1.25.0,!=1.25.1,<1.26,>=1.21.1 in /usr/local/lib/python3.7/site-packages (from requests->pooch>=0.5.2->scikit-image>=0.14.2->imgaug==0.4.0) (1.24.3)\n",
      "Requirement already satisfied: idna<3,>=2.5 in /usr/local/lib/python3.7/site-packages (from requests->pooch>=0.5.2->scikit-image>=0.14.2->imgaug==0.4.0) (2.9)\n",
      "Requirement already satisfied: certifi>=2017.4.17 in /usr/local/lib/python3.7/site-packages (from requests->pooch>=0.5.2->scikit-image>=0.14.2->imgaug==0.4.0) (2020.4.5.1)\n",
      "Requirement already satisfied: chardet<4,>=3.0.2 in /usr/local/lib/python3.7/site-packages (from requests->pooch>=0.5.2->scikit-image>=0.14.2->imgaug==0.4.0) (3.0.4)\n",
      "Installing collected packages: Shapely, imgaug\n",
      "Successfully installed Shapely-1.7.1 imgaug-0.4.0\n",
      "\u001b[33mWARNING: You are using pip version 20.1; however, version 21.2.1 is available.\n",
      "You should consider upgrading via the '/usr/local/bin/python -m pip install --upgrade pip' command.\u001b[0m\n",
      "Collecting imgo\n",
      "  Downloading imgo-2.5.6-py3-none-any.whl (26 kB)\n",
      "Installing collected packages: imgo\n",
      "Successfully installed imgo-2.5.6\n",
      "\u001b[33mWARNING: You are using pip version 20.1; however, version 21.2.1 is available.\n",
      "You should consider upgrading via the '/usr/local/bin/python -m pip install --upgrade pip' command.\u001b[0m\n"
     ]
    }
   ],
   "source": [
    "!pip install imgaug==0.4.0\n",
    "!pip install imgo"
   ]
  },
  {
   "cell_type": "code",
   "execution_count": 6,
   "metadata": {},
   "outputs": [],
   "source": [
    "from imgo import uptools"
   ]
  },
  {
   "cell_type": "code",
   "execution_count": 7,
   "metadata": {},
   "outputs": [],
   "source": [
    "class_names = ['amethyst_deceiver',\n",
    "               'bolete',\n",
    "               'chanterelle',\n",
    "               'chicken_of_the_woods',\n",
    "               'death_cap',\n",
    "               'false_chanterelle',\n",
    "               'false_morel',\n",
    "               'fibrecap',\n",
    "               'field_mushroom',\n",
    "               'fly_agaric',\n",
    "               'giant_puffball',\n",
    "               'grey_oyster',\n",
    "               'morel',\n",
    "               'orange_peel',\n",
    "               'roundhead',\n",
    "               'saddle',\n",
    "               'shaggy_inkcap',\n",
    "               'stinkhorn',\n",
    "               'waxcap',\n",
    "               'yellow_stainer']\n"
   ]
  },
  {
   "cell_type": "code",
   "execution_count": 8,
   "metadata": {},
   "outputs": [
    {
     "name": "stderr",
     "output_type": "stream",
     "text": [
      "Processing X_train: 100%|██████████| 8231/8231 [00:05<00:00, 1635.74it/s]\n",
      "Processing X_val: 100%|██████████| 1300/1300 [00:00<00:00, 1794.32it/s]\n",
      "Processing X_test: 100%|██████████| 1300/1300 [00:00<00:00, 1800.78it/s]\n"
     ]
    },
    {
     "name": "stdout",
     "output_type": "stream",
     "text": [
      "Normalizing...\n",
      "Image_Datset initialized successfully.\n",
      "CPU times: user 11.9 s, sys: 6.73 s, total: 18.6 s\n",
      "Wall time: 38.9 s\n"
     ]
    }
   ],
   "source": [
    "%%time\n",
    "ds = uptools.Image_Dataset(\"/floyd/input/ds_1\", \"h5\", 256, normalize=True, manual_classes=class_names)"
   ]
  },
  {
   "cell_type": "code",
   "execution_count": 9,
   "metadata": {},
   "outputs": [
    {
     "name": "stderr",
     "output_type": "stream",
     "text": [
      "findfont: Font family ['sans-serif'] not found. Falling back to DejaVu Sans.\n",
      "findfont: Font family ['sans-serif'] not found. Falling back to DejaVu Sans.\n",
      "findfont: Font family ['sans-serif'] not found. Falling back to DejaVu Sans.\n"
     ]
    },
    {
     "data": {
      "image/png": "[encoded data removed]",
      "text/plain": [
       "<Figure size 720x432 with 1 Axes>"
      ]
     },
     "metadata": {
      "needs_background": "light"
     },
     "output_type": "display_data"
    }
   ],
   "source": [
    "ds.details(plot=True)"
   ]
  },
  {
   "cell_type": "code",
   "execution_count": 10,
   "metadata": {},
   "outputs": [],
   "source": [
    "def cnn():\n",
    "    \n",
    "    inputs = keras.Input(shape=(256,256,3))\n",
    "    x = layers.Conv2D(64,(3,3),padding='same',kernel_initializer='he_uniform')(inputs)\n",
    "    x = layers.LeakyReLU(alpha=0.1)(x)\n",
    "    x = layers.Conv2D(64,(3,3),padding='same',kernel_initializer='he_uniform')(x)\n",
    "    x = layers.LeakyReLU(alpha=0.1)(x)\n",
    "    x = layers.Conv2D(64,(3,3),padding='same',kernel_initializer='he_uniform')(x)\n",
    "    x = layers.LeakyReLU(alpha=0.1)(x)\n",
    "    x = layers.MaxPooling2D((2,2))(x)\n",
    "    \n",
    "    x = layers.Conv2D(128,(3,3),padding='same',kernel_initializer='he_uniform')(x)\n",
    "    x = layers.LeakyReLU(alpha=0.1)(x)\n",
    "    x = layers.Conv2D(128,(3,3),padding='same',kernel_initializer='he_uniform')(x)\n",
    "    x = layers.LeakyReLU(alpha=0.1)(x)\n",
    "    x = layers.MaxPooling2D((2,2))(x)\n",
    "    \n",
    "    x = layers.Conv2D(256,(3,3),padding='same',kernel_initializer='he_uniform')(x)\n",
    "    x = layers.LeakyReLU(alpha=0.1)(x)\n",
    "    x = layers.MaxPooling2D((2,2))(x)\n",
    "    \n",
    "    x = layers.Conv2D(512,(3,3),padding='same',kernel_initializer='he_uniform')(x)\n",
    "    x = layers.LeakyReLU(alpha=0.1)(x)\n",
    "    x = layers.MaxPooling2D((2,2))(x)\n",
    "    \n",
    "    x = layers.Conv2D(512,(3,3),padding='same',kernel_initializer='he_uniform')(x)\n",
    "    x = layers.LeakyReLU(alpha=0.1)(x)\n",
    "    x = layers.MaxPooling2D((2,2))(x)\n",
    "    \n",
    "    x = layers.Flatten()(x)\n",
    "    x = layers.Dense(1024,kernel_initializer='he_uniform')(x)\n",
    "    x = layers.LeakyReLU(alpha=0.1)(x)\n",
    "    x = layers.Dropout(0.25)(x)\n",
    "    \n",
    "    x = layers.Dense(2048,kernel_initializer='he_uniform')(x)\n",
    "    x = layers.LeakyReLU(alpha=0.1)(x)\n",
    "    x = layers.Dropout(0.3)(x)\n",
    "    \n",
    "    x = layers.Dense(20)(x)\n",
    "    outputs = layers.Activation('softmax')(x)   \n",
    "\n",
    "    opt=optimizers.Nadam(learning_rate=0.00008)\n",
    "\n",
    "    model = keras.Model(inputs=inputs, outputs=outputs)\n",
    "    model.compile(loss='categorical_crossentropy',optimizer=opt,metrics=['accuracy'])\n",
    "    model.summary()\n",
    "    \n",
    "    return model"
   ]
  },
  {
   "cell_type": "code",
   "execution_count": 11,
   "metadata": {},
   "outputs": [],
   "source": [
    "ne = 15\n",
    "bs = 32"
   ]
  },
  {
   "cell_type": "code",
   "execution_count": 12,
   "metadata": {},
   "outputs": [
    {
     "name": "stdout",
     "output_type": "stream",
     "text": [
      "Model: \"functional_1\"\n",
      "_________________________________________________________________\n",
      "Layer (type)                 Output Shape              Param #   \n",
      "=================================================================\n",
      "input_1 (InputLayer)         [(None, 256, 256, 3)]     0         \n",
      "_________________________________________________________________\n",
      "conv2d (Conv2D)              (None, 256, 256, 64)      1792      \n",
      "_________________________________________________________________\n",
      "leaky_re_lu (LeakyReLU)      (None, 256, 256, 64)      0         \n",
      "_________________________________________________________________\n",
      "conv2d_1 (Conv2D)            (None, 256, 256, 64)      36928     \n",
      "_________________________________________________________________\n",
      "leaky_re_lu_1 (LeakyReLU)    (None, 256, 256, 64)      0         \n",
      "_________________________________________________________________\n",
      "conv2d_2 (Conv2D)            (None, 256, 256, 64)      36928     \n",
      "_________________________________________________________________\n",
      "leaky_re_lu_2 (LeakyReLU)    (None, 256, 256, 64)      0         \n",
      "_________________________________________________________________\n",
      "max_pooling2d (MaxPooling2D) (None, 128, 128, 64)      0         \n",
      "_________________________________________________________________\n",
      "conv2d_3 (Conv2D)            (None, 128, 128, 128)     73856     \n",
      "_________________________________________________________________\n",
      "leaky_re_lu_3 (LeakyReLU)    (None, 128, 128, 128)     0         \n",
      "_________________________________________________________________\n",
      "conv2d_4 (Conv2D)            (None, 128, 128, 128)     147584    \n",
      "_________________________________________________________________\n",
      "leaky_re_lu_4 (LeakyReLU)    (None, 128, 128, 128)     0         \n",
      "_________________________________________________________________\n",
      "max_pooling2d_1 (MaxPooling2 (None, 64, 64, 128)       0         \n",
      "_________________________________________________________________\n",
      "conv2d_5 (Conv2D)            (None, 64, 64, 256)       295168    \n",
      "_________________________________________________________________\n",
      "leaky_re_lu_5 (LeakyReLU)    (None, 64, 64, 256)       0         \n",
      "_________________________________________________________________\n",
      "max_pooling2d_2 (MaxPooling2 (None, 32, 32, 256)       0         \n",
      "_________________________________________________________________\n",
      "conv2d_6 (Conv2D)            (None, 32, 32, 512)       1180160   \n",
      "_________________________________________________________________\n",
      "leaky_re_lu_6 (LeakyReLU)    (None, 32, 32, 512)       0         \n",
      "_________________________________________________________________\n",
      "max_pooling2d_3 (MaxPooling2 (None, 16, 16, 512)       0         \n",
      "_________________________________________________________________\n",
      "conv2d_7 (Conv2D)            (None, 16, 16, 512)       2359808   \n",
      "_________________________________________________________________\n",
      "leaky_re_lu_7 (LeakyReLU)    (None, 16, 16, 512)       0         \n",
      "_________________________________________________________________\n",
      "max_pooling2d_4 (MaxPooling2 (None, 8, 8, 512)         0         \n",
      "_________________________________________________________________\n",
      "flatten (Flatten)            (None, 32768)             0         \n",
      "_________________________________________________________________\n",
      "dense (Dense)                (None, 1024)              33555456  \n",
      "_________________________________________________________________\n",
      "leaky_re_lu_8 (LeakyReLU)    (None, 1024)              0         \n",
      "_________________________________________________________________\n",
      "dropout (Dropout)            (None, 1024)              0         \n",
      "_________________________________________________________________\n",
      "dense_1 (Dense)              (None, 2048)              2099200   \n",
      "_________________________________________________________________\n",
      "leaky_re_lu_9 (LeakyReLU)    (None, 2048)              0         \n",
      "_________________________________________________________________\n",
      "dropout_1 (Dropout)          (None, 2048)              0         \n",
      "_________________________________________________________________\n",
      "dense_2 (Dense)              (None, 20)                40980     \n",
      "_________________________________________________________________\n",
      "activation (Activation)      (None, 20)                0         \n",
      "=================================================================\n",
      "Total params: 39,827,860\n",
      "Trainable params: 39,827,860\n",
      "Non-trainable params: 0\n",
      "_________________________________________________________________\n",
      "Epoch 1/15\n",
      "  1/258 [..............................] - ETA: 4s - loss: 3.8340 - accuracy: 0.0625WARNING:tensorflow:From /usr/local/lib/python3.7/site-packages/tensorflow/python/ops/summary_ops_v2.py:1277: stop (from tensorflow.python.eager.profiler) is deprecated and will be removed after 2020-07-01.\n",
      "Instructions for updating:\n",
      "use `tf.profiler.experimental.stop` instead.\n",
      "  2/258 [..............................] - ETA: 2:49 - loss: 5.0186 - accuracy: 0.0469WARNING:tensorflow:Callbacks method `on_train_batch_end` is slow compared to the batch time (batch time: 0.4337s vs `on_train_batch_end` time: 0.8702s). Check your callbacks.\n",
      "258/258 [==============================] - ETA: 0s - loss: 2.3501 - accuracy: 0.2725\n",
      "Epoch 00001: val_accuracy improved from -inf to 0.39000, saving model to ds_net_14.h5\n",
      "258/258 [==============================] - 315s 1s/step - loss: 2.3501 - accuracy: 0.2725 - val_loss: 1.9014 - val_accuracy: 0.3900\n",
      "Epoch 2/15\n",
      "258/258 [==============================] - ETA: 0s - loss: 1.6219 - accuracy: 0.4838\n",
      "Epoch 00002: val_accuracy improved from 0.39000 to 0.52308, saving model to ds_net_14.h5\n",
      "258/258 [==============================] - 317s 1s/step - loss: 1.6219 - accuracy: 0.4838 - val_loss: 1.4986 - val_accuracy: 0.5231\n",
      "Epoch 3/15\n",
      "258/258 [==============================] - ETA: 0s - loss: 1.2504 - accuracy: 0.6035\n",
      "Epoch 00003: val_accuracy did not improve from 0.52308\n",
      "258/258 [==============================] - 312s 1s/step - loss: 1.2504 - accuracy: 0.6035 - val_loss: 1.8481 - val_accuracy: 0.4469\n",
      "Epoch 4/15\n",
      "258/258 [==============================] - ETA: 0s - loss: 0.9306 - accuracy: 0.6982\n",
      "Epoch 00004: val_accuracy improved from 0.52308 to 0.57231, saving model to ds_net_14.h5\n",
      "258/258 [==============================] - 317s 1s/step - loss: 0.9306 - accuracy: 0.6982 - val_loss: 1.3748 - val_accuracy: 0.5723\n",
      "Epoch 5/15\n",
      "258/258 [==============================] - ETA: 0s - loss: 0.6206 - accuracy: 0.7969\n",
      "Epoch 00005: val_accuracy did not improve from 0.57231\n",
      "258/258 [==============================] - 312s 1s/step - loss: 0.6206 - accuracy: 0.7969 - val_loss: 1.5433 - val_accuracy: 0.5523\n",
      "Epoch 6/15\n",
      "258/258 [==============================] - ETA: 0s - loss: 0.3776 - accuracy: 0.8746\n",
      "Epoch 00006: val_accuracy improved from 0.57231 to 0.61231, saving model to ds_net_14.h5\n",
      "258/258 [==============================] - 317s 1s/step - loss: 0.3776 - accuracy: 0.8746 - val_loss: 1.5335 - val_accuracy: 0.6123\n",
      "Epoch 7/15\n",
      "258/258 [==============================] - ETA: 0s - loss: 0.2186 - accuracy: 0.9289\n",
      "Epoch 00007: val_accuracy improved from 0.61231 to 0.63231, saving model to ds_net_14.h5\n",
      "258/258 [==============================] - 317s 1s/step - loss: 0.2186 - accuracy: 0.9289 - val_loss: 1.5593 - val_accuracy: 0.6323\n",
      "Epoch 8/15\n",
      "258/258 [==============================] - ETA: 0s - loss: 0.1471 - accuracy: 0.9501\n",
      "Epoch 00008: val_accuracy improved from 0.63231 to 0.64385, saving model to ds_net_14.h5\n",
      "258/258 [==============================] - 317s 1s/step - loss: 0.1471 - accuracy: 0.9501 - val_loss: 1.5196 - val_accuracy: 0.6438\n",
      "Epoch 9/15\n",
      "258/258 [==============================] - ETA: 0s - loss: 0.1167 - accuracy: 0.9629\n",
      "Epoch 00009: val_accuracy did not improve from 0.64385\n",
      "258/258 [==============================] - 312s 1s/step - loss: 0.1167 - accuracy: 0.9629 - val_loss: 1.6654 - val_accuracy: 0.6362\n",
      "Epoch 10/15\n",
      "258/258 [==============================] - ETA: 0s - loss: 0.1002 - accuracy: 0.9687\n",
      "Epoch 00010: val_accuracy did not improve from 0.64385\n",
      "258/258 [==============================] - 313s 1s/step - loss: 0.1002 - accuracy: 0.9687 - val_loss: 1.7511 - val_accuracy: 0.6308\n",
      "Epoch 11/15\n",
      "258/258 [==============================] - ETA: 0s - loss: 0.0901 - accuracy: 0.9694\n",
      "Epoch 00011: val_accuracy did not improve from 0.64385\n",
      "258/258 [==============================] - 312s 1s/step - loss: 0.0901 - accuracy: 0.9694 - val_loss: 2.2041 - val_accuracy: 0.5915\n",
      "Epoch 12/15\n",
      "258/258 [==============================] - ETA: 0s - loss: 0.0758 - accuracy: 0.9741\n",
      "Epoch 00012: val_accuracy did not improve from 0.64385\n",
      "258/258 [==============================] - 313s 1s/step - loss: 0.0758 - accuracy: 0.9741 - val_loss: 2.3231 - val_accuracy: 0.5854\n",
      "Epoch 13/15\n",
      "258/258 [==============================] - ETA: 0s - loss: 0.0681 - accuracy: 0.9803\n",
      "Epoch 00013: val_accuracy did not improve from 0.64385\n",
      "258/258 [==============================] - 312s 1s/step - loss: 0.0681 - accuracy: 0.9803 - val_loss: 2.0973 - val_accuracy: 0.6292\n",
      "Epoch 14/15\n",
      "258/258 [==============================] - ETA: 0s - loss: 0.0688 - accuracy: 0.9783\n",
      "Epoch 00014: val_accuracy did not improve from 0.64385\n",
      "258/258 [==============================] - 313s 1s/step - loss: 0.0688 - accuracy: 0.9783 - val_loss: 1.9931 - val_accuracy: 0.6269\n",
      "Epoch 15/15\n",
      "258/258 [==============================] - ETA: 0s - loss: 0.0579 - accuracy: 0.9829\n",
      "Epoch 00015: val_accuracy did not improve from 0.64385\n",
      "258/258 [==============================] - 313s 1s/step - loss: 0.0579 - accuracy: 0.9829 - val_loss: 1.9194 - val_accuracy: 0.6285\n",
      "CPU times: user 34min 40s, sys: 18min 31s, total: 53min 11s\n",
      "Wall time: 1h 20min 41s\n"
     ]
    }
   ],
   "source": [
    "%%time\n",
    "ds_net_14 = cnn()\n",
    "model_path = \"ds_net_14.h5\"\n",
    "\n",
    "\n",
    "cp = [ModelCheckpoint(filepath=model_path,\n",
    "                      monitor=\"val_accuracy\",\n",
    "                      verbose=1,\n",
    "                      save_best_only=True)]\n",
    "\n",
    "log_dir = \"logs/fit/\" + datetime.datetime.now().strftime(\"%Y%m%d-%H%M%S\")\n",
    "tc = [tf.keras.callbacks.TensorBoard(log_dir=log_dir, histogram_freq=1)]\n",
    "\n",
    "history = ds_net_14.fit(ds.X_train,\n",
    "                        ds.y_train,\n",
    "                        validation_data=(ds.X_val,ds.y_val),\n",
    "                        epochs=ne,\n",
    "                        batch_size=bs,\n",
    "                        callbacks=[cp,tc])\n",
    "\n",
    "with open(f\"ds_net_14_history\", \"wb\") as file_pi:\n",
    "    pickle.dump(history.history, file_pi)"
   ]
  },
  {
   "cell_type": "code",
   "execution_count": null,
   "metadata": {},
   "outputs": [
    {
     "name": "stdout",
     "output_type": "stream",
     "text": [
      "41/41 [==============================] - 16s 387ms/step - loss: 1.5196 - accuracy: 0.6438\n",
      "37/41 [==========================>...] - ETA: 1s - loss: 1.6115 - accuracy: 0.6444"
     ]
    }
   ],
   "source": [
    "model = models.load_model(model_path)\n",
    "(val_loss, val_acc) = model.evaluate(ds.X_val,ds.y_val,verbose=1)\n",
    "(test_loss, test_acc) = model.evaluate(ds.X_test,ds.y_test,verbose=1)\n",
    "print('---')\n",
    "print(f'Val Loss: {val_loss}')\n",
    "print(f'Val Accuracy: {val_acc}')\n",
    "print('---')\n",
    "print(f'Test Loss: {test_loss}')\n",
    "print(f'Test Accuracy: {test_acc}')"
   ]
  },
  {
   "cell_type": "code",
   "execution_count": null,
   "metadata": {},
   "outputs": [],
   "source": [
    "test_preds = np.argmax(model.predict(ds.X_test,verbose=1),axis=-1)\n",
    "test_results_df = pd.DataFrame(test_preds,columns=['predicted'])\n",
    "test_results_df['actual'] = pd.DataFrame(ds.y_test).idxmax(axis=1)\n",
    "cm = metrics.confusion_matrix(test_results_df['actual'],test_results_df['predicted'])\n",
    "cmn = np.true_divide(cm, cm.sum(axis=1, keepdims=True))*100\n",
    "df_cmn = pd.DataFrame(cmn, class_names, class_names)"
   ]
  },
  {
   "cell_type": "code",
   "execution_count": null,
   "metadata": {},
   "outputs": [],
   "source": [
    "fig, ax1 = plt.subplots(1,1,figsize=(10,10))\n",
    "sns.heatmap(df_cmn, cmap='Blues', cbar=False, annot=True,annot_kws={\"size\":11}, fmt='.0f', linewidth=0.5)\n",
    "for t in ax1.texts:\n",
    "    t.set_text(t.get_text()+'%')\n",
    "plt.xlabel('Predicted')\n",
    "plt.ylabel('Actual')\n",
    "plt.title(f'Confusion Matrix', fontdict={'fontsize':15})\n",
    "plt.tight_layout()\n",
    "plt.savefig(\"cm.png\")\n",
    "plt.show()"
   ]
  },
  {
   "cell_type": "code",
   "execution_count": null,
   "metadata": {},
   "outputs": [],
   "source": []
  }
 ],
 "metadata": {
  "kernelspec": {
   "display_name": "Python 3",
   "language": "python",
   "name": "python3"
  },
  "language_info": {
   "codemirror_mode": {
    "name": "ipython",
    "version": 3
   },
   "file_extension": ".py",
   "mimetype": "text/x-python",
   "name": "python",
   "nbconvert_exporter": "python",
   "pygments_lexer": "ipython3",
   "version": "3.7.6"
  }
 },
 "nbformat": 4,
 "nbformat_minor": 4
}
