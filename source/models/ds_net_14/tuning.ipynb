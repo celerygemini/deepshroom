{
 "cells": [
  {
   "cell_type": "code",
   "execution_count": 1,
   "metadata": {},
   "outputs": [],
   "source": [
    "import os\n",
    "import pickle\n",
    "import datetime\n",
    "import numpy as np\n",
    "import pandas as pd\n",
    "import matplotlib.pyplot as plt\n",
    "import tensorflow as tf\n",
    "import seaborn as sns\n",
    "import sklearn.metrics as metrics\n",
    "from tensorflow import keras\n",
    "from tensorflow.keras import layers\n",
    "from tensorflow.keras import activations\n",
    "from tensorflow.keras import optimizers\n",
    "from keras.callbacks import ModelCheckpoint\n",
    "from keras import models"
   ]
  },
  {
   "cell_type": "code",
   "execution_count": 2,
   "metadata": {},
   "outputs": [],
   "source": [
    "rm -rf ./untitled_project/"
   ]
  },
  {
   "cell_type": "code",
   "execution_count": 3,
   "metadata": {},
   "outputs": [
    {
     "name": "stdout",
     "output_type": "stream",
     "text": [
      "Collecting imgaug==0.4.0\n",
      "  Downloading imgaug-0.4.0-py2.py3-none-any.whl (948 kB)\n",
      "\u001b[K     |████████████████████████████████| 948 kB 8.6 MB/s eta 0:00:01\n",
      "\u001b[?25hRequirement already satisfied: Pillow in /usr/local/lib/python3.7/site-packages (from imgaug==0.4.0) (7.1.2)\n",
      "Requirement already satisfied: matplotlib in /usr/local/lib/python3.7/site-packages (from imgaug==0.4.0) (3.2.1)\n",
      "Requirement already satisfied: numpy>=1.15 in /usr/local/lib/python3.7/site-packages (from imgaug==0.4.0) (1.18.4)\n",
      "Collecting Shapely\n",
      "  Downloading Shapely-1.7.1-cp37-cp37m-manylinux1_x86_64.whl (1.0 MB)\n",
      "\u001b[K     |████████████████████████████████| 1.0 MB 31.2 MB/s eta 0:00:01\n",
      "\u001b[?25hRequirement already satisfied: scipy in /usr/local/lib/python3.7/site-packages (from imgaug==0.4.0) (1.4.1)\n",
      "Requirement already satisfied: scikit-image>=0.14.2 in /usr/local/lib/python3.7/site-packages (from imgaug==0.4.0) (0.17.1)\n",
      "Requirement already satisfied: opencv-python in /usr/local/lib/python3.7/site-packages (from imgaug==0.4.0) (4.2.0.34)\n",
      "Requirement already satisfied: imageio in /usr/local/lib/python3.7/site-packages (from imgaug==0.4.0) (2.8.0)\n",
      "Requirement already satisfied: six in /usr/local/lib/python3.7/site-packages (from imgaug==0.4.0) (1.14.0)\n",
      "Requirement already satisfied: kiwisolver>=1.0.1 in /usr/local/lib/python3.7/site-packages (from matplotlib->imgaug==0.4.0) (1.2.0)\n",
      "Requirement already satisfied: cycler>=0.10 in /usr/local/lib/python3.7/site-packages (from matplotlib->imgaug==0.4.0) (0.10.0)\n",
      "Requirement already satisfied: pyparsing!=2.0.4,!=2.1.2,!=2.1.6,>=2.0.1 in /usr/local/lib/python3.7/site-packages (from matplotlib->imgaug==0.4.0) (2.4.7)\n",
      "Requirement already satisfied: python-dateutil>=2.1 in /usr/local/lib/python3.7/site-packages (from matplotlib->imgaug==0.4.0) (2.8.1)\n",
      "Requirement already satisfied: networkx>=2.0 in /usr/local/lib/python3.7/site-packages (from scikit-image>=0.14.2->imgaug==0.4.0) (2.4)\n",
      "Requirement already satisfied: PyWavelets>=1.1.1 in /usr/local/lib/python3.7/site-packages (from scikit-image>=0.14.2->imgaug==0.4.0) (1.1.1)\n",
      "Requirement already satisfied: tifffile>=2019.7.26 in /usr/local/lib/python3.7/site-packages (from scikit-image>=0.14.2->imgaug==0.4.0) (2020.5.7)\n",
      "Requirement already satisfied: pooch>=0.5.2 in /usr/local/lib/python3.7/site-packages (from scikit-image>=0.14.2->imgaug==0.4.0) (1.1.0)\n",
      "Requirement already satisfied: decorator>=4.3.0 in /usr/local/lib/python3.7/site-packages (from networkx>=2.0->scikit-image>=0.14.2->imgaug==0.4.0) (4.4.2)\n",
      "Requirement already satisfied: imagecodecs>=2020.2.18 in /usr/local/lib/python3.7/site-packages (from tifffile>=2019.7.26->scikit-image>=0.14.2->imgaug==0.4.0) (2020.2.18)\n",
      "Requirement already satisfied: requests in /usr/local/lib/python3.7/site-packages (from pooch>=0.5.2->scikit-image>=0.14.2->imgaug==0.4.0) (2.23.0)\n",
      "Requirement already satisfied: packaging in /usr/local/lib/python3.7/site-packages (from pooch>=0.5.2->scikit-image>=0.14.2->imgaug==0.4.0) (20.3)\n",
      "Requirement already satisfied: appdirs in /usr/local/lib/python3.7/site-packages (from pooch>=0.5.2->scikit-image>=0.14.2->imgaug==0.4.0) (1.4.4)\n",
      "Requirement already satisfied: urllib3!=1.25.0,!=1.25.1,<1.26,>=1.21.1 in /usr/local/lib/python3.7/site-packages (from requests->pooch>=0.5.2->scikit-image>=0.14.2->imgaug==0.4.0) (1.24.3)\n",
      "Requirement already satisfied: idna<3,>=2.5 in /usr/local/lib/python3.7/site-packages (from requests->pooch>=0.5.2->scikit-image>=0.14.2->imgaug==0.4.0) (2.9)\n",
      "Requirement already satisfied: chardet<4,>=3.0.2 in /usr/local/lib/python3.7/site-packages (from requests->pooch>=0.5.2->scikit-image>=0.14.2->imgaug==0.4.0) (3.0.4)\n",
      "Requirement already satisfied: certifi>=2017.4.17 in /usr/local/lib/python3.7/site-packages (from requests->pooch>=0.5.2->scikit-image>=0.14.2->imgaug==0.4.0) (2020.4.5.1)\n",
      "Installing collected packages: Shapely, imgaug\n",
      "Successfully installed Shapely-1.7.1 imgaug-0.4.0\n",
      "\u001b[33mWARNING: You are using pip version 20.1; however, version 21.2.1 is available.\n",
      "You should consider upgrading via the '/usr/local/bin/python -m pip install --upgrade pip' command.\u001b[0m\n",
      "Collecting imgo\n",
      "  Downloading imgo-2.5.6-py3-none-any.whl (26 kB)\n",
      "Installing collected packages: imgo\n",
      "Successfully installed imgo-2.5.6\n",
      "\u001b[33mWARNING: You are using pip version 20.1; however, version 21.2.1 is available.\n",
      "You should consider upgrading via the '/usr/local/bin/python -m pip install --upgrade pip' command.\u001b[0m\n",
      "Collecting keras-tuner\n",
      "  Downloading keras_tuner-1.0.3-py3-none-any.whl (96 kB)\n",
      "\u001b[K     |████████████████████████████████| 96 kB 4.5 MB/s eta 0:00:011\n",
      "\u001b[?25hRequirement already satisfied: numpy in /usr/local/lib/python3.7/site-packages (from keras-tuner) (1.18.4)\n",
      "Requirement already satisfied: requests in /usr/local/lib/python3.7/site-packages (from keras-tuner) (2.23.0)\n",
      "Requirement already satisfied: packaging in /usr/local/lib/python3.7/site-packages (from keras-tuner) (20.3)\n",
      "Collecting kt-legacy\n",
      "  Downloading kt-legacy-1.0.3.tar.gz (5.8 kB)\n",
      "Requirement already satisfied: tensorboard in /usr/local/lib/python3.7/site-packages (from keras-tuner) (2.3.0)\n",
      "Requirement already satisfied: ipython in /usr/local/lib/python3.7/site-packages (from keras-tuner) (7.14.0)\n",
      "Requirement already satisfied: scipy in /usr/local/lib/python3.7/site-packages (from keras-tuner) (1.4.1)\n",
      "Requirement already satisfied: chardet<4,>=3.0.2 in /usr/local/lib/python3.7/site-packages (from requests->keras-tuner) (3.0.4)\n",
      "Requirement already satisfied: urllib3!=1.25.0,!=1.25.1,<1.26,>=1.21.1 in /usr/local/lib/python3.7/site-packages (from requests->keras-tuner) (1.24.3)\n",
      "Requirement already satisfied: idna<3,>=2.5 in /usr/local/lib/python3.7/site-packages (from requests->keras-tuner) (2.9)\n",
      "Requirement already satisfied: certifi>=2017.4.17 in /usr/local/lib/python3.7/site-packages (from requests->keras-tuner) (2020.4.5.1)\n",
      "Requirement already satisfied: pyparsing>=2.0.2 in /usr/local/lib/python3.7/site-packages (from packaging->keras-tuner) (2.4.7)\n",
      "Requirement already satisfied: six in /usr/local/lib/python3.7/site-packages (from packaging->keras-tuner) (1.14.0)\n",
      "Requirement already satisfied: absl-py>=0.4 in /usr/local/lib/python3.7/site-packages (from tensorboard->keras-tuner) (0.10.0)\n",
      "Requirement already satisfied: protobuf>=3.6.0 in /usr/local/lib/python3.7/site-packages (from tensorboard->keras-tuner) (3.13.0)\n",
      "Requirement already satisfied: wheel>=0.26; python_version >= \"3\" in /usr/local/lib/python3.7/site-packages (from tensorboard->keras-tuner) (0.34.2)\n",
      "Requirement already satisfied: markdown>=2.6.8 in /usr/local/lib/python3.7/site-packages (from tensorboard->keras-tuner) (3.3.1)\n",
      "Requirement already satisfied: setuptools>=41.0.0 in /usr/local/lib/python3.7/site-packages (from tensorboard->keras-tuner) (46.2.0)\n",
      "Requirement already satisfied: google-auth<2,>=1.6.3 in /usr/local/lib/python3.7/site-packages (from tensorboard->keras-tuner) (1.22.1)\n",
      "Requirement already satisfied: grpcio>=1.24.3 in /usr/local/lib/python3.7/site-packages (from tensorboard->keras-tuner) (1.32.0)\n",
      "Requirement already satisfied: werkzeug>=0.11.15 in /usr/local/lib/python3.7/site-packages (from tensorboard->keras-tuner) (1.0.1)\n",
      "Requirement already satisfied: tensorboard-plugin-wit>=1.6.0 in /usr/local/lib/python3.7/site-packages (from tensorboard->keras-tuner) (1.7.0)\n",
      "Requirement already satisfied: google-auth-oauthlib<0.5,>=0.4.1 in /usr/local/lib/python3.7/site-packages (from tensorboard->keras-tuner) (0.4.1)\n",
      "Requirement already satisfied: decorator in /usr/local/lib/python3.7/site-packages (from ipython->keras-tuner) (4.4.2)\n",
      "Requirement already satisfied: prompt-toolkit!=3.0.0,!=3.0.1,<3.1.0,>=2.0.0 in /usr/local/lib/python3.7/site-packages (from ipython->keras-tuner) (3.0.5)\n",
      "Requirement already satisfied: pickleshare in /usr/local/lib/python3.7/site-packages (from ipython->keras-tuner) (0.7.5)\n",
      "Requirement already satisfied: traitlets>=4.2 in /usr/local/lib/python3.7/site-packages (from ipython->keras-tuner) (4.3.3)\n",
      "Requirement already satisfied: pexpect; sys_platform != \"win32\" in /usr/local/lib/python3.7/site-packages (from ipython->keras-tuner) (4.8.0)\n",
      "Requirement already satisfied: jedi>=0.10 in /usr/local/lib/python3.7/site-packages (from ipython->keras-tuner) (0.17.0)\n",
      "Requirement already satisfied: backcall in /usr/local/lib/python3.7/site-packages (from ipython->keras-tuner) (0.1.0)\n",
      "Requirement already satisfied: pygments in /usr/local/lib/python3.7/site-packages (from ipython->keras-tuner) (2.6.1)\n",
      "Requirement already satisfied: importlib-metadata; python_version < \"3.8\" in /usr/local/lib/python3.7/site-packages (from markdown>=2.6.8->tensorboard->keras-tuner) (1.6.0)\n",
      "Requirement already satisfied: cachetools<5.0,>=2.0.0 in /usr/local/lib/python3.7/site-packages (from google-auth<2,>=1.6.3->tensorboard->keras-tuner) (4.1.0)\n",
      "Requirement already satisfied: pyasn1-modules>=0.2.1 in /usr/local/lib/python3.7/site-packages (from google-auth<2,>=1.6.3->tensorboard->keras-tuner) (0.2.8)\n",
      "Requirement already satisfied: rsa<5,>=3.1.4; python_version >= \"3.5\" in /usr/local/lib/python3.7/site-packages (from google-auth<2,>=1.6.3->tensorboard->keras-tuner) (4.6)\n",
      "Requirement already satisfied: requests-oauthlib>=0.7.0 in /usr/local/lib/python3.7/site-packages (from google-auth-oauthlib<0.5,>=0.4.1->tensorboard->keras-tuner) (1.3.0)\n",
      "Requirement already satisfied: wcwidth in /usr/local/lib/python3.7/site-packages (from prompt-toolkit!=3.0.0,!=3.0.1,<3.1.0,>=2.0.0->ipython->keras-tuner) (0.1.9)\n",
      "Requirement already satisfied: ipython-genutils in /usr/local/lib/python3.7/site-packages (from traitlets>=4.2->ipython->keras-tuner) (0.2.0)\n",
      "Requirement already satisfied: ptyprocess>=0.5 in /usr/local/lib/python3.7/site-packages (from pexpect; sys_platform != \"win32\"->ipython->keras-tuner) (0.6.0)\n",
      "Requirement already satisfied: parso>=0.7.0 in /usr/local/lib/python3.7/site-packages (from jedi>=0.10->ipython->keras-tuner) (0.7.0)\n",
      "Requirement already satisfied: zipp>=0.5 in /usr/local/lib/python3.7/site-packages (from importlib-metadata; python_version < \"3.8\"->markdown>=2.6.8->tensorboard->keras-tuner) (3.1.0)\n",
      "Requirement already satisfied: pyasn1<0.5.0,>=0.4.6 in /usr/local/lib/python3.7/site-packages (from pyasn1-modules>=0.2.1->google-auth<2,>=1.6.3->tensorboard->keras-tuner) (0.4.8)\n",
      "Requirement already satisfied: oauthlib>=3.0.0 in /usr/local/lib/python3.7/site-packages (from requests-oauthlib>=0.7.0->google-auth-oauthlib<0.5,>=0.4.1->tensorboard->keras-tuner) (3.1.0)\n",
      "Building wheels for collected packages: kt-legacy\n",
      "  Building wheel for kt-legacy (setup.py) ... \u001b[?25ldone\n",
      "\u001b[?25h  Created wheel for kt-legacy: filename=kt_legacy-1.0.3-py3-none-any.whl size=9563 sha256=ef0b61043ae6cb2972b0ef074c0d60ac06378b6f8d32152353095c2b958d291c\n",
      "  Stored in directory: /root/.cache/pip/wheels/38/5c/e0/13003e68c17f403af40b92a24d20171b95fef13b0fdaba833c\n",
      "Successfully built kt-legacy\n",
      "Installing collected packages: kt-legacy, keras-tuner\n",
      "Successfully installed keras-tuner-1.0.3 kt-legacy-1.0.3\n",
      "\u001b[33mWARNING: You are using pip version 20.1; however, version 21.2.1 is available.\n",
      "You should consider upgrading via the '/usr/local/bin/python -m pip install --upgrade pip' command.\u001b[0m\n"
     ]
    }
   ],
   "source": [
    "!pip install imgaug==0.4.0\n",
    "!pip install imgo\n",
    "!pip install keras-tuner"
   ]
  },
  {
   "cell_type": "code",
   "execution_count": 4,
   "metadata": {},
   "outputs": [],
   "source": [
    "from imgo import uptools\n",
    "from keras_tuner import HyperModel\n",
    "from keras_tuner.tuners import BayesianOptimization\n",
    "from keras_tuner.tuners import Hyperband\n",
    "from keras_tuner.tuners import RandomSearch"
   ]
  },
  {
   "cell_type": "code",
   "execution_count": 5,
   "metadata": {},
   "outputs": [],
   "source": [
    "class_names = ['amethyst_deceiver',\n",
    "               'bolete',\n",
    "               'chanterelle',\n",
    "               'chicken_of_the_woods',\n",
    "               'death_cap',\n",
    "               'false_chanterelle',\n",
    "               'false_morel',\n",
    "               'fibrecap',\n",
    "               'field_mushroom',\n",
    "               'fly_agaric',\n",
    "               'giant_puffball',\n",
    "               'grey_oyster',\n",
    "               'morel',\n",
    "               'orange_peel',\n",
    "               'roundhead',\n",
    "               'saddle',\n",
    "               'shaggy_inkcap',\n",
    "               'stinkhorn',\n",
    "               'waxcap',\n",
    "               'yellow_stainer']\n"
   ]
  },
  {
   "cell_type": "code",
   "execution_count": 6,
   "metadata": {},
   "outputs": [
    {
     "name": "stderr",
     "output_type": "stream",
     "text": [
      "Processing X_train: 100%|██████████| 8231/8231 [00:04<00:00, 1861.76it/s]\n",
      "Processing X_val: 100%|██████████| 1300/1300 [00:00<00:00, 1863.71it/s]\n",
      "Processing X_test: 100%|██████████| 1300/1300 [00:00<00:00, 1856.69it/s]\n"
     ]
    },
    {
     "name": "stdout",
     "output_type": "stream",
     "text": [
      "Normalizing...\n",
      "Image_Datset initialized successfully.\n",
      "CPU times: user 11.5 s, sys: 6.41 s, total: 17.9 s\n",
      "Wall time: 38.1 s\n"
     ]
    }
   ],
   "source": [
    "%%time\n",
    "ds = uptools.Image_Dataset(\"/floyd/input/ds_1\", \"h5\", 256, normalize=True, manual_classes=class_names)"
   ]
  },
  {
   "cell_type": "code",
   "execution_count": 7,
   "metadata": {},
   "outputs": [
    {
     "name": "stderr",
     "output_type": "stream",
     "text": [
      "findfont: Font family ['sans-serif'] not found. Falling back to DejaVu Sans.\n",
      "findfont: Font family ['sans-serif'] not found. Falling back to DejaVu Sans.\n",
      "findfont: Font family ['sans-serif'] not found. Falling back to DejaVu Sans.\n"
     ]
    },
    {
     "data": {
      "image/png": "[encoded data removed]",
      "text/plain": [
       "<Figure size 720x432 with 1 Axes>"
      ]
     },
     "metadata": {
      "needs_background": "light"
     },
     "output_type": "display_data"
    }
   ],
   "source": [
    "ds.details(plot=True)"
   ]
  },
  {
   "cell_type": "code",
   "execution_count": 12,
   "metadata": {},
   "outputs": [],
   "source": [
    "class CNNHyperModel(HyperModel):\n",
    "    def __init__(self,input_shape,class_no):\n",
    "        self.input_shape = input_shape\n",
    "        self.num_classes = class_no\n",
    "\n",
    "    def build(self,hp):\n",
    "\n",
    "        inputs = keras.Input(shape=self.input_shape)\n",
    "        x = layers.Conv2D(32,(3,3),padding='same',activation='relu',kernel_initializer='he_uniform')(inputs)\n",
    "        x = layers.MaxPooling2D((2,2))(x)\n",
    "\n",
    "        x = layers.Conv2D(64,(3,3),padding='same',activation='relu',kernel_initializer='he_uniform')(x)\n",
    "        x = layers.MaxPooling2D((2,2))(x)\n",
    "\n",
    "        x = layers.Conv2D(128,(3,3),padding='same',activation='relu',kernel_initializer='he_uniform')(x)\n",
    "        x = layers.MaxPooling2D((2,2))(x)\n",
    "\n",
    "        x = layers.Conv2D(256,(3,3),padding='same',activation='relu',kernel_initializer='he_uniform')(x)\n",
    "        x = layers.MaxPooling2D((2,2))(x)\n",
    "\n",
    "        x = layers.Conv2D(512,(3,3),padding='same',activation='relu',kernel_initializer='he_uniform')(x)\n",
    "        x = layers.MaxPooling2D((2,2))(x)\n",
    "\n",
    "        x = layers.Flatten()(x)\n",
    "        x = layers.Dense(1024,activation='relu',kernel_initializer='he_uniform')(x)  \n",
    "        x = layers.Dropout(0.15)(x)\n",
    "\n",
    "        x = layers.Dense(2048,activation='relu',kernel_initializer='he_uniform')(x) \n",
    "        x = layers.Dropout(0.25)(x)\n",
    "\n",
    "        x = layers.Dense(20)(x)\n",
    "        outputs = layers.Activation('softmax')(x)\n",
    "\n",
    "        nadam = optimizers.Nadam(learning_rate=hp.Choice(\"learning_rate\",values=[0.0001,0.00007,0.00005]))\n",
    "        adamax = optimizers.Adamax(learning_rate=hp.Choice(\"learning_rate\",values=[0.0001,0.00007,0.00005]))\n",
    "        \n",
    "        model = keras.Model(inputs=inputs, outputs=outputs)\n",
    "        model.compile(loss='categorical_crossentropy',optimizer=nadam,metrics=['accuracy'])\n",
    "        model.summary()\n",
    "\n",
    "        return model\n",
    "    \n",
    "hypermodel = CNNHyperModel(ds.img_shape,ds.class_no)"
   ]
  },
  {
   "cell_type": "code",
   "execution_count": 13,
   "metadata": {},
   "outputs": [],
   "source": [
    "n_epochs = 4\n",
    "s_batch = 32\n",
    "m_trials = 3"
   ]
  },
  {
   "cell_type": "code",
   "execution_count": 14,
   "metadata": {},
   "outputs": [
    {
     "name": "stdout",
     "output_type": "stream",
     "text": [
      "Trial 3 Complete [00h 10m 23s]\n",
      "val_accuracy: 0.5392307639122009\n",
      "\n",
      "Best val_accuracy So Far: 0.5684615174929301\n",
      "Total elapsed time: 00h 31m 08s\n",
      "INFO:tensorflow:Oracle triggered exit\n",
      "CPU times: user 18min 16s, sys: 8min 54s, total: 27min 10s\n",
      "Wall time: 31min 8s\n"
     ]
    }
   ],
   "source": [
    "%%time\n",
    "# tuner = BayesianOptimization(hypermodel,max_trials=m_trials,objective='val_accuracy')\n",
    "# tuner = Hyperband(hypermodel,objective='val_accuracy',max_epochs=8)\n",
    "\n",
    "tuner = RandomSearch(hypermodel,\n",
    "                     objective='val_accuracy',\n",
    "                     max_trials=10,\n",
    "                     executions_per_trial=3)\n",
    "\n",
    "\n",
    "\n",
    "tuner.search(ds.X_train,\n",
    "             ds.y_train,\n",
    "             epochs=n_epochs,\n",
    "             validation_data=(ds.X_val,ds.y_val),\n",
    "             batch_size=s_batch)"
   ]
  },
  {
   "cell_type": "code",
   "execution_count": 15,
   "metadata": {},
   "outputs": [
    {
     "name": "stdout",
     "output_type": "stream",
     "text": [
      "Results summary\n",
      "Results in ./untitled_project\n",
      "Showing 10 best trials\n",
      "Objective(name='val_accuracy', direction='max')\n",
      "Trial summary\n",
      "Hyperparameters:\n",
      "learning_rate: 7e-05\n",
      "Score: 0.5684615174929301\n",
      "Trial summary\n",
      "Hyperparameters:\n",
      "learning_rate: 0.0001\n",
      "Score: 0.5392307639122009\n",
      "Trial summary\n",
      "Hyperparameters:\n",
      "learning_rate: 5e-05\n",
      "Score: 0.5366666714350382\n",
      "Model: \"functional_1\"\n",
      "_________________________________________________________________\n",
      "Layer (type)                 Output Shape              Param #   \n",
      "=================================================================\n",
      "input_1 (InputLayer)         [(None, 256, 256, 3)]     0         \n",
      "_________________________________________________________________\n",
      "conv2d (Conv2D)              (None, 256, 256, 32)      896       \n",
      "_________________________________________________________________\n",
      "max_pooling2d (MaxPooling2D) (None, 128, 128, 32)      0         \n",
      "_________________________________________________________________\n",
      "conv2d_1 (Conv2D)            (None, 128, 128, 64)      18496     \n",
      "_________________________________________________________________\n",
      "max_pooling2d_1 (MaxPooling2 (None, 64, 64, 64)        0         \n",
      "_________________________________________________________________\n",
      "conv2d_2 (Conv2D)            (None, 64, 64, 128)       73856     \n",
      "_________________________________________________________________\n",
      "max_pooling2d_2 (MaxPooling2 (None, 32, 32, 128)       0         \n",
      "_________________________________________________________________\n",
      "conv2d_3 (Conv2D)            (None, 32, 32, 256)       295168    \n",
      "_________________________________________________________________\n",
      "max_pooling2d_3 (MaxPooling2 (None, 16, 16, 256)       0         \n",
      "_________________________________________________________________\n",
      "conv2d_4 (Conv2D)            (None, 16, 16, 512)       1180160   \n",
      "_________________________________________________________________\n",
      "max_pooling2d_4 (MaxPooling2 (None, 8, 8, 512)         0         \n",
      "_________________________________________________________________\n",
      "flatten (Flatten)            (None, 32768)             0         \n",
      "_________________________________________________________________\n",
      "dense (Dense)                (None, 1024)              33555456  \n",
      "_________________________________________________________________\n",
      "dropout (Dropout)            (None, 1024)              0         \n",
      "_________________________________________________________________\n",
      "dense_1 (Dense)              (None, 2048)              2099200   \n",
      "_________________________________________________________________\n",
      "dropout_1 (Dropout)          (None, 2048)              0         \n",
      "_________________________________________________________________\n",
      "dense_2 (Dense)              (None, 20)                40980     \n",
      "_________________________________________________________________\n",
      "activation (Activation)      (None, 20)                0         \n",
      "=================================================================\n",
      "Total params: 37,264,212\n",
      "Trainable params: 37,264,212\n",
      "Non-trainable params: 0\n",
      "_________________________________________________________________\n",
      "41/41 [==============================] - 2s 42ms/step - loss: 1.3020 - accuracy: 0.5985\n"
     ]
    }
   ],
   "source": [
    "tuner.results_summary()\n",
    "best_model = tuner.get_best_models(num_models=1)[0]\n",
    "loss, accuracy = best_model.evaluate(ds.X_val, ds.y_val)"
   ]
  },
  {
   "cell_type": "code",
   "execution_count": null,
   "metadata": {},
   "outputs": [],
   "source": [
    "(val_loss, val_acc) = best_model.evaluate(ds.X_val,ds.y_val,verbose=1)\n",
    "print('---')\n",
    "print(f'Val Loss: {val_loss}')\n",
    "print(f'Val Accuracy: {val_acc}')"
   ]
  },
  {
   "cell_type": "code",
   "execution_count": null,
   "metadata": {},
   "outputs": [],
   "source": []
  }
 ],
 "metadata": {
  "kernelspec": {
   "display_name": "Python 3",
   "language": "python",
   "name": "python3"
  },
  "language_info": {
   "codemirror_mode": {
    "name": "ipython",
    "version": 3
   },
   "file_extension": ".py",
   "mimetype": "text/x-python",
   "name": "python",
   "nbconvert_exporter": "python",
   "pygments_lexer": "ipython3",
   "version": "3.7.7"
  }
 },
 "nbformat": 4,
 "nbformat_minor": 4
}
